{
 "cells": [
  {
   "cell_type": "code",
   "execution_count": 1,
   "id": "315dc42b",
   "metadata": {
    "execution": {
     "iopub.execute_input": "2022-10-06T11:49:59.346284Z",
     "iopub.status.busy": "2022-10-06T11:49:59.345294Z",
     "iopub.status.idle": "2022-10-06T11:50:00.583059Z",
     "shell.execute_reply": "2022-10-06T11:50:00.581783Z"
    },
    "papermill": {
     "duration": 1.258082,
     "end_time": "2022-10-06T11:50:00.586325",
     "exception": false,
     "start_time": "2022-10-06T11:49:59.328243",
     "status": "completed"
    },
    "tags": []
   },
   "outputs": [],
   "source": [
    "import pandas as pd\n",
    "import numpy as np\n",
    "import matplotlib.pyplot as plt\n",
    "%matplotlib inline\n",
    "import seaborn as sns"
   ]
  },
  {
   "cell_type": "markdown",
   "id": "6b4c150c",
   "metadata": {
    "papermill": {
     "duration": 0.01528,
     "end_time": "2022-10-06T11:50:00.614868",
     "exception": false,
     "start_time": "2022-10-06T11:50:00.599588",
     "status": "completed"
    },
    "tags": []
   },
   "source": [
    "<a id='EDA'></a>\n",
    "## 1]Exploratory Data Analysis - Getting familiar to the dataset"
   ]
  },
  {
   "cell_type": "code",
   "execution_count": 2,
   "id": "1a7266b2",
   "metadata": {
    "execution": {
     "iopub.execute_input": "2022-10-06T11:50:00.642951Z",
     "iopub.status.busy": "2022-10-06T11:50:00.642008Z",
     "iopub.status.idle": "2022-10-06T11:50:23.481587Z",
     "shell.execute_reply": "2022-10-06T11:50:23.480242Z"
    },
    "papermill": {
     "duration": 22.856893,
     "end_time": "2022-10-06T11:50:23.484718",
     "exception": false,
     "start_time": "2022-10-06T11:50:00.627825",
     "status": "completed"
    },
    "tags": []
   },
   "outputs": [
    {
     "data": {
      "text/html": [
       "<div>\n",
       "<style scoped>\n",
       "    .dataframe tbody tr th:only-of-type {\n",
       "        vertical-align: middle;\n",
       "    }\n",
       "\n",
       "    .dataframe tbody tr th {\n",
       "        vertical-align: top;\n",
       "    }\n",
       "\n",
       "    .dataframe thead th {\n",
       "        text-align: right;\n",
       "    }\n",
       "</style>\n",
       "<table border=\"1\" class=\"dataframe\">\n",
       "  <thead>\n",
       "    <tr style=\"text-align: right;\">\n",
       "      <th></th>\n",
       "      <th>step</th>\n",
       "      <th>type</th>\n",
       "      <th>amount</th>\n",
       "      <th>nameOrig</th>\n",
       "      <th>oldbalanceOrg</th>\n",
       "      <th>newbalanceOrig</th>\n",
       "      <th>nameDest</th>\n",
       "      <th>oldbalanceDest</th>\n",
       "      <th>newbalanceDest</th>\n",
       "      <th>isFraud</th>\n",
       "      <th>isFlaggedFraud</th>\n",
       "    </tr>\n",
       "  </thead>\n",
       "  <tbody>\n",
       "    <tr>\n",
       "      <th>0</th>\n",
       "      <td>1</td>\n",
       "      <td>PAYMENT</td>\n",
       "      <td>9839.64</td>\n",
       "      <td>C1231006815</td>\n",
       "      <td>170136.0</td>\n",
       "      <td>160296.36</td>\n",
       "      <td>M1979787155</td>\n",
       "      <td>0.0</td>\n",
       "      <td>0.0</td>\n",
       "      <td>0</td>\n",
       "      <td>0</td>\n",
       "    </tr>\n",
       "    <tr>\n",
       "      <th>1</th>\n",
       "      <td>1</td>\n",
       "      <td>PAYMENT</td>\n",
       "      <td>1864.28</td>\n",
       "      <td>C1666544295</td>\n",
       "      <td>21249.0</td>\n",
       "      <td>19384.72</td>\n",
       "      <td>M2044282225</td>\n",
       "      <td>0.0</td>\n",
       "      <td>0.0</td>\n",
       "      <td>0</td>\n",
       "      <td>0</td>\n",
       "    </tr>\n",
       "    <tr>\n",
       "      <th>2</th>\n",
       "      <td>1</td>\n",
       "      <td>TRANSFER</td>\n",
       "      <td>181.00</td>\n",
       "      <td>C1305486145</td>\n",
       "      <td>181.0</td>\n",
       "      <td>0.00</td>\n",
       "      <td>C553264065</td>\n",
       "      <td>0.0</td>\n",
       "      <td>0.0</td>\n",
       "      <td>1</td>\n",
       "      <td>0</td>\n",
       "    </tr>\n",
       "    <tr>\n",
       "      <th>3</th>\n",
       "      <td>1</td>\n",
       "      <td>CASH_OUT</td>\n",
       "      <td>181.00</td>\n",
       "      <td>C840083671</td>\n",
       "      <td>181.0</td>\n",
       "      <td>0.00</td>\n",
       "      <td>C38997010</td>\n",
       "      <td>21182.0</td>\n",
       "      <td>0.0</td>\n",
       "      <td>1</td>\n",
       "      <td>0</td>\n",
       "    </tr>\n",
       "    <tr>\n",
       "      <th>4</th>\n",
       "      <td>1</td>\n",
       "      <td>PAYMENT</td>\n",
       "      <td>11668.14</td>\n",
       "      <td>C2048537720</td>\n",
       "      <td>41554.0</td>\n",
       "      <td>29885.86</td>\n",
       "      <td>M1230701703</td>\n",
       "      <td>0.0</td>\n",
       "      <td>0.0</td>\n",
       "      <td>0</td>\n",
       "      <td>0</td>\n",
       "    </tr>\n",
       "  </tbody>\n",
       "</table>\n",
       "</div>"
      ],
      "text/plain": [
       "   step      type    amount     nameOrig  oldbalanceOrg  newbalanceOrig  \\\n",
       "0     1   PAYMENT   9839.64  C1231006815       170136.0       160296.36   \n",
       "1     1   PAYMENT   1864.28  C1666544295        21249.0        19384.72   \n",
       "2     1  TRANSFER    181.00  C1305486145          181.0            0.00   \n",
       "3     1  CASH_OUT    181.00   C840083671          181.0            0.00   \n",
       "4     1   PAYMENT  11668.14  C2048537720        41554.0        29885.86   \n",
       "\n",
       "      nameDest  oldbalanceDest  newbalanceDest  isFraud  isFlaggedFraud  \n",
       "0  M1979787155             0.0             0.0        0               0  \n",
       "1  M2044282225             0.0             0.0        0               0  \n",
       "2   C553264065             0.0             0.0        1               0  \n",
       "3    C38997010         21182.0             0.0        1               0  \n",
       "4  M1230701703             0.0             0.0        0               0  "
      ]
     },
     "execution_count": 2,
     "metadata": {},
     "output_type": "execute_result"
    }
   ],
   "source": [
    "df = pd.read_csv(\"../input/fraud-transaction-detection/Fraud (1).csv\")\n",
    "df.head()"
   ]
  },
  {
   "cell_type": "code",
   "execution_count": 3,
   "id": "22225c3b",
   "metadata": {
    "execution": {
     "iopub.execute_input": "2022-10-06T11:50:23.513134Z",
     "iopub.status.busy": "2022-10-06T11:50:23.512689Z",
     "iopub.status.idle": "2022-10-06T11:50:26.057562Z",
     "shell.execute_reply": "2022-10-06T11:50:26.055548Z"
    },
    "papermill": {
     "duration": 2.563699,
     "end_time": "2022-10-06T11:50:26.061786",
     "exception": false,
     "start_time": "2022-10-06T11:50:23.498087",
     "status": "completed"
    },
    "tags": []
   },
   "outputs": [
    {
     "data": {
      "text/html": [
       "<div>\n",
       "<style scoped>\n",
       "    .dataframe tbody tr th:only-of-type {\n",
       "        vertical-align: middle;\n",
       "    }\n",
       "\n",
       "    .dataframe tbody tr th {\n",
       "        vertical-align: top;\n",
       "    }\n",
       "\n",
       "    .dataframe thead th {\n",
       "        text-align: right;\n",
       "    }\n",
       "</style>\n",
       "<table border=\"1\" class=\"dataframe\">\n",
       "  <thead>\n",
       "    <tr style=\"text-align: right;\">\n",
       "      <th></th>\n",
       "      <th>step</th>\n",
       "      <th>amount</th>\n",
       "      <th>oldbalanceOrg</th>\n",
       "      <th>newbalanceOrig</th>\n",
       "      <th>oldbalanceDest</th>\n",
       "      <th>newbalanceDest</th>\n",
       "      <th>isFraud</th>\n",
       "      <th>isFlaggedFraud</th>\n",
       "    </tr>\n",
       "  </thead>\n",
       "  <tbody>\n",
       "    <tr>\n",
       "      <th>count</th>\n",
       "      <td>6.362620e+06</td>\n",
       "      <td>6.362620e+06</td>\n",
       "      <td>6.362620e+06</td>\n",
       "      <td>6.362620e+06</td>\n",
       "      <td>6.362620e+06</td>\n",
       "      <td>6.362620e+06</td>\n",
       "      <td>6.362620e+06</td>\n",
       "      <td>6.362620e+06</td>\n",
       "    </tr>\n",
       "    <tr>\n",
       "      <th>mean</th>\n",
       "      <td>2.433972e+02</td>\n",
       "      <td>1.798619e+05</td>\n",
       "      <td>8.338831e+05</td>\n",
       "      <td>8.551137e+05</td>\n",
       "      <td>1.100702e+06</td>\n",
       "      <td>1.224996e+06</td>\n",
       "      <td>1.290820e-03</td>\n",
       "      <td>2.514687e-06</td>\n",
       "    </tr>\n",
       "    <tr>\n",
       "      <th>std</th>\n",
       "      <td>1.423320e+02</td>\n",
       "      <td>6.038582e+05</td>\n",
       "      <td>2.888243e+06</td>\n",
       "      <td>2.924049e+06</td>\n",
       "      <td>3.399180e+06</td>\n",
       "      <td>3.674129e+06</td>\n",
       "      <td>3.590480e-02</td>\n",
       "      <td>1.585775e-03</td>\n",
       "    </tr>\n",
       "    <tr>\n",
       "      <th>min</th>\n",
       "      <td>1.000000e+00</td>\n",
       "      <td>0.000000e+00</td>\n",
       "      <td>0.000000e+00</td>\n",
       "      <td>0.000000e+00</td>\n",
       "      <td>0.000000e+00</td>\n",
       "      <td>0.000000e+00</td>\n",
       "      <td>0.000000e+00</td>\n",
       "      <td>0.000000e+00</td>\n",
       "    </tr>\n",
       "    <tr>\n",
       "      <th>25%</th>\n",
       "      <td>1.560000e+02</td>\n",
       "      <td>1.338957e+04</td>\n",
       "      <td>0.000000e+00</td>\n",
       "      <td>0.000000e+00</td>\n",
       "      <td>0.000000e+00</td>\n",
       "      <td>0.000000e+00</td>\n",
       "      <td>0.000000e+00</td>\n",
       "      <td>0.000000e+00</td>\n",
       "    </tr>\n",
       "    <tr>\n",
       "      <th>50%</th>\n",
       "      <td>2.390000e+02</td>\n",
       "      <td>7.487194e+04</td>\n",
       "      <td>1.420800e+04</td>\n",
       "      <td>0.000000e+00</td>\n",
       "      <td>1.327057e+05</td>\n",
       "      <td>2.146614e+05</td>\n",
       "      <td>0.000000e+00</td>\n",
       "      <td>0.000000e+00</td>\n",
       "    </tr>\n",
       "    <tr>\n",
       "      <th>75%</th>\n",
       "      <td>3.350000e+02</td>\n",
       "      <td>2.087215e+05</td>\n",
       "      <td>1.073152e+05</td>\n",
       "      <td>1.442584e+05</td>\n",
       "      <td>9.430367e+05</td>\n",
       "      <td>1.111909e+06</td>\n",
       "      <td>0.000000e+00</td>\n",
       "      <td>0.000000e+00</td>\n",
       "    </tr>\n",
       "    <tr>\n",
       "      <th>max</th>\n",
       "      <td>7.430000e+02</td>\n",
       "      <td>9.244552e+07</td>\n",
       "      <td>5.958504e+07</td>\n",
       "      <td>4.958504e+07</td>\n",
       "      <td>3.560159e+08</td>\n",
       "      <td>3.561793e+08</td>\n",
       "      <td>1.000000e+00</td>\n",
       "      <td>1.000000e+00</td>\n",
       "    </tr>\n",
       "  </tbody>\n",
       "</table>\n",
       "</div>"
      ],
      "text/plain": [
       "               step        amount  oldbalanceOrg  newbalanceOrig  \\\n",
       "count  6.362620e+06  6.362620e+06   6.362620e+06    6.362620e+06   \n",
       "mean   2.433972e+02  1.798619e+05   8.338831e+05    8.551137e+05   \n",
       "std    1.423320e+02  6.038582e+05   2.888243e+06    2.924049e+06   \n",
       "min    1.000000e+00  0.000000e+00   0.000000e+00    0.000000e+00   \n",
       "25%    1.560000e+02  1.338957e+04   0.000000e+00    0.000000e+00   \n",
       "50%    2.390000e+02  7.487194e+04   1.420800e+04    0.000000e+00   \n",
       "75%    3.350000e+02  2.087215e+05   1.073152e+05    1.442584e+05   \n",
       "max    7.430000e+02  9.244552e+07   5.958504e+07    4.958504e+07   \n",
       "\n",
       "       oldbalanceDest  newbalanceDest       isFraud  isFlaggedFraud  \n",
       "count    6.362620e+06    6.362620e+06  6.362620e+06    6.362620e+06  \n",
       "mean     1.100702e+06    1.224996e+06  1.290820e-03    2.514687e-06  \n",
       "std      3.399180e+06    3.674129e+06  3.590480e-02    1.585775e-03  \n",
       "min      0.000000e+00    0.000000e+00  0.000000e+00    0.000000e+00  \n",
       "25%      0.000000e+00    0.000000e+00  0.000000e+00    0.000000e+00  \n",
       "50%      1.327057e+05    2.146614e+05  0.000000e+00    0.000000e+00  \n",
       "75%      9.430367e+05    1.111909e+06  0.000000e+00    0.000000e+00  \n",
       "max      3.560159e+08    3.561793e+08  1.000000e+00    1.000000e+00  "
      ]
     },
     "execution_count": 3,
     "metadata": {},
     "output_type": "execute_result"
    }
   ],
   "source": [
    "df.describe()"
   ]
  },
  {
   "cell_type": "code",
   "execution_count": 4,
   "id": "54f73e04",
   "metadata": {
    "execution": {
     "iopub.execute_input": "2022-10-06T11:50:26.106177Z",
     "iopub.status.busy": "2022-10-06T11:50:26.105594Z",
     "iopub.status.idle": "2022-10-06T11:50:26.130509Z",
     "shell.execute_reply": "2022-10-06T11:50:26.128122Z"
    },
    "papermill": {
     "duration": 0.053044,
     "end_time": "2022-10-06T11:50:26.135966",
     "exception": false,
     "start_time": "2022-10-06T11:50:26.082922",
     "status": "completed"
    },
    "tags": []
   },
   "outputs": [
    {
     "name": "stdout",
     "output_type": "stream",
     "text": [
      "<class 'pandas.core.frame.DataFrame'>\n",
      "RangeIndex: 6362620 entries, 0 to 6362619\n",
      "Data columns (total 11 columns):\n",
      " #   Column          Dtype  \n",
      "---  ------          -----  \n",
      " 0   step            int64  \n",
      " 1   type            object \n",
      " 2   amount          float64\n",
      " 3   nameOrig        object \n",
      " 4   oldbalanceOrg   float64\n",
      " 5   newbalanceOrig  float64\n",
      " 6   nameDest        object \n",
      " 7   oldbalanceDest  float64\n",
      " 8   newbalanceDest  float64\n",
      " 9   isFraud         int64  \n",
      " 10  isFlaggedFraud  int64  \n",
      "dtypes: float64(5), int64(3), object(3)\n",
      "memory usage: 534.0+ MB\n"
     ]
    }
   ],
   "source": [
    "df.info()"
   ]
  },
  {
   "cell_type": "markdown",
   "id": "e0176bc9",
   "metadata": {
    "papermill": {
     "duration": 0.017779,
     "end_time": "2022-10-06T11:50:26.173587",
     "exception": false,
     "start_time": "2022-10-06T11:50:26.155808",
     "status": "completed"
    },
    "tags": []
   },
   "source": [
    "### 1.1]there are 5 unique types of transactions for which we need to check frauds"
   ]
  },
  {
   "cell_type": "code",
   "execution_count": 5,
   "id": "5359d58d",
   "metadata": {
    "execution": {
     "iopub.execute_input": "2022-10-06T11:50:26.217039Z",
     "iopub.status.busy": "2022-10-06T11:50:26.216570Z",
     "iopub.status.idle": "2022-10-06T11:50:26.874898Z",
     "shell.execute_reply": "2022-10-06T11:50:26.872847Z"
    },
    "papermill": {
     "duration": 0.684926,
     "end_time": "2022-10-06T11:50:26.879179",
     "exception": false,
     "start_time": "2022-10-06T11:50:26.194253",
     "status": "completed"
    },
    "tags": []
   },
   "outputs": [
    {
     "data": {
      "text/plain": [
       "array(['PAYMENT', 'TRANSFER', 'CASH_OUT', 'DEBIT', 'CASH_IN'],\n",
       "      dtype=object)"
      ]
     },
     "execution_count": 5,
     "metadata": {},
     "output_type": "execute_result"
    }
   ],
   "source": [
    "df.type.unique()"
   ]
  },
  {
   "cell_type": "markdown",
   "id": "69ca1f25",
   "metadata": {
    "papermill": {
     "duration": 0.018079,
     "end_time": "2022-10-06T11:50:26.915633",
     "exception": false,
     "start_time": "2022-10-06T11:50:26.897554",
     "status": "completed"
    },
    "tags": []
   },
   "source": [
    "### 1.2]there are no null values"
   ]
  },
  {
   "cell_type": "code",
   "execution_count": 6,
   "id": "d8b9670e",
   "metadata": {
    "execution": {
     "iopub.execute_input": "2022-10-06T11:50:26.956441Z",
     "iopub.status.busy": "2022-10-06T11:50:26.955868Z",
     "iopub.status.idle": "2022-10-06T11:50:28.185472Z",
     "shell.execute_reply": "2022-10-06T11:50:28.184117Z"
    },
    "papermill": {
     "duration": 1.255317,
     "end_time": "2022-10-06T11:50:28.189195",
     "exception": false,
     "start_time": "2022-10-06T11:50:26.933878",
     "status": "completed"
    },
    "tags": []
   },
   "outputs": [
    {
     "data": {
      "text/plain": [
       "False"
      ]
     },
     "execution_count": 6,
     "metadata": {},
     "output_type": "execute_result"
    }
   ],
   "source": [
    "df.isnull().values.any()"
   ]
  },
  {
   "cell_type": "markdown",
   "id": "6ed19f16",
   "metadata": {
    "papermill": {
     "duration": 0.020883,
     "end_time": "2022-10-06T11:50:28.229974",
     "exception": false,
     "start_time": "2022-10-06T11:50:28.209091",
     "status": "completed"
    },
    "tags": []
   },
   "source": [
    "### 1.3] Visualisation to see which transactions are used more"
   ]
  },
  {
   "cell_type": "code",
   "execution_count": 7,
   "id": "0ed3963d",
   "metadata": {
    "execution": {
     "iopub.execute_input": "2022-10-06T11:50:28.270263Z",
     "iopub.status.busy": "2022-10-06T11:50:28.269720Z",
     "iopub.status.idle": "2022-10-06T11:50:52.914567Z",
     "shell.execute_reply": "2022-10-06T11:50:52.911970Z"
    },
    "papermill": {
     "duration": 24.672205,
     "end_time": "2022-10-06T11:50:52.922036",
     "exception": false,
     "start_time": "2022-10-06T11:50:28.249831",
     "status": "completed"
    },
    "tags": []
   },
   "outputs": [
    {
     "data": {
      "image/png": "[encoded data removed]",
      "text/plain": [
       "<Figure size 1080x1080 with 1 Axes>"
      ]
     },
     "metadata": {
      "needs_background": "light"
     },
     "output_type": "display_data"
    }
   ],
   "source": [
    "#counting the amount of different transaction types for both fraud and non fraud cases\n",
    "x1 = df.sort_values(by = [\"type\"])[[\"type\"]]\n",
    "word1,count1 = np.unique(x1.values,return_counts = True)\n",
    "plt.figure(figsize=[15, 15])\n",
    "plt.bar(word1, count1, width=0.7, edgecolor='blueviolet',\n",
    "        color=['yellow','green','purple','blue','orange'], linewidth=2)\n",
    "plt.title('All Types Clients Transactions', fontsize=15)\n",
    "plt.xlabel('word1', fontsize=15)\n",
    "plt.ylabel('count1', fontsize=15)\n",
    "plt.show()"
   ]
  },
  {
   "cell_type": "code",
   "execution_count": 8,
   "id": "2f02bf37",
   "metadata": {
    "execution": {
     "iopub.execute_input": "2022-10-06T11:50:52.965968Z",
     "iopub.status.busy": "2022-10-06T11:50:52.965196Z",
     "iopub.status.idle": "2022-10-06T11:50:59.094197Z",
     "shell.execute_reply": "2022-10-06T11:50:59.092700Z"
    },
    "papermill": {
     "duration": 6.155567,
     "end_time": "2022-10-06T11:50:59.096880",
     "exception": false,
     "start_time": "2022-10-06T11:50:52.941313",
     "status": "completed"
    },
    "tags": []
   },
   "outputs": [
    {
     "data": {
      "text/plain": [
       "<AxesSubplot:xlabel='type', ylabel='count'>"
      ]
     },
     "execution_count": 8,
     "metadata": {},
     "output_type": "execute_result"
    },
    {
     "data": {
      "image/png": "[encoded data removed]",
      "text/plain": [
       "<Figure size 792x504 with 1 Axes>"
      ]
     },
     "metadata": {
      "needs_background": "light"
     },
     "output_type": "display_data"
    }
   ],
   "source": [
    "# counting fraud cases in each transaction type\n",
    "plt.figure(figsize=(11,7))\n",
    "sns.countplot(x='type', hue='isFraud', data=df, palette='Set1')"
   ]
  },
  {
   "cell_type": "markdown",
   "id": "ce0cb01f",
   "metadata": {
    "papermill": {
     "duration": 0.014366,
     "end_time": "2022-10-06T11:50:59.126168",
     "exception": false,
     "start_time": "2022-10-06T11:50:59.111802",
     "status": "completed"
    },
    "tags": []
   },
   "source": [
    "### 1.4]From the visualisation above we find out for which types of transaction, the column's values in isFraud equals to 1 or 0. Let's also confirm the same thing numerically below\n"
   ]
  },
  {
   "cell_type": "code",
   "execution_count": 9,
   "id": "4bd042a3",
   "metadata": {
    "execution": {
     "iopub.execute_input": "2022-10-06T11:50:59.157223Z",
     "iopub.status.busy": "2022-10-06T11:50:59.156768Z",
     "iopub.status.idle": "2022-10-06T11:50:59.629008Z",
     "shell.execute_reply": "2022-10-06T11:50:59.627932Z"
    },
    "papermill": {
     "duration": 0.490906,
     "end_time": "2022-10-06T11:50:59.631566",
     "exception": false,
     "start_time": "2022-10-06T11:50:59.140660",
     "status": "completed"
    },
    "tags": []
   },
   "outputs": [
    {
     "data": {
      "text/plain": [
       "4097"
      ]
     },
     "execution_count": 9,
     "metadata": {},
     "output_type": "execute_result"
    }
   ],
   "source": [
    "# number of transfer transactions where isfraud = 1\n",
    "df[(df['type']=='TRANSFER')&(df['isFraud']==1)]['isFraud'].sum()"
   ]
  },
  {
   "cell_type": "code",
   "execution_count": 10,
   "id": "702c20de",
   "metadata": {
    "execution": {
     "iopub.execute_input": "2022-10-06T11:50:59.663560Z",
     "iopub.status.busy": "2022-10-06T11:50:59.663083Z",
     "iopub.status.idle": "2022-10-06T11:51:00.136346Z",
     "shell.execute_reply": "2022-10-06T11:51:00.135077Z"
    },
    "papermill": {
     "duration": 0.492657,
     "end_time": "2022-10-06T11:51:00.138952",
     "exception": false,
     "start_time": "2022-10-06T11:50:59.646295",
     "status": "completed"
    },
    "tags": []
   },
   "outputs": [
    {
     "data": {
      "text/plain": [
       "4116"
      ]
     },
     "execution_count": 10,
     "metadata": {},
     "output_type": "execute_result"
    }
   ],
   "source": [
    "# number of cash out transactions where isfraud = 1\n",
    "df[(df['type']=='CASH_OUT')&(df['isFraud']==1)]['isFraud'].sum()"
   ]
  },
  {
   "cell_type": "code",
   "execution_count": 11,
   "id": "d0c26bc2",
   "metadata": {
    "execution": {
     "iopub.execute_input": "2022-10-06T11:51:00.172416Z",
     "iopub.status.busy": "2022-10-06T11:51:00.171659Z",
     "iopub.status.idle": "2022-10-06T11:51:00.637251Z",
     "shell.execute_reply": "2022-10-06T11:51:00.635856Z"
    },
    "papermill": {
     "duration": 0.485454,
     "end_time": "2022-10-06T11:51:00.640044",
     "exception": false,
     "start_time": "2022-10-06T11:51:00.154590",
     "status": "completed"
    },
    "tags": []
   },
   "outputs": [
    {
     "data": {
      "text/plain": [
       "0"
      ]
     },
     "execution_count": 11,
     "metadata": {},
     "output_type": "execute_result"
    }
   ],
   "source": [
    "# number of cash in transactions where isfraud = 1\n",
    "df[(df['type']=='CASH_IN')&(df['isFraud']==1)]['isFraud'].sum()"
   ]
  },
  {
   "cell_type": "code",
   "execution_count": 12,
   "id": "1a3902d2",
   "metadata": {
    "execution": {
     "iopub.execute_input": "2022-10-06T11:51:00.672187Z",
     "iopub.status.busy": "2022-10-06T11:51:00.671519Z",
     "iopub.status.idle": "2022-10-06T11:51:01.086333Z",
     "shell.execute_reply": "2022-10-06T11:51:01.084855Z"
    },
    "papermill": {
     "duration": 0.434255,
     "end_time": "2022-10-06T11:51:01.088921",
     "exception": false,
     "start_time": "2022-10-06T11:51:00.654666",
     "status": "completed"
    },
    "tags": []
   },
   "outputs": [
    {
     "data": {
      "text/plain": [
       "0"
      ]
     },
     "execution_count": 12,
     "metadata": {},
     "output_type": "execute_result"
    }
   ],
   "source": [
    "# number of debit transactions where isfraud = 1\n",
    "df[(df['type']=='DEBIT')&(df['isFraud']==1)]['isFraud'].sum()"
   ]
  },
  {
   "cell_type": "code",
   "execution_count": 13,
   "id": "1aff5f1e",
   "metadata": {
    "execution": {
     "iopub.execute_input": "2022-10-06T11:51:01.120726Z",
     "iopub.status.busy": "2022-10-06T11:51:01.120258Z",
     "iopub.status.idle": "2022-10-06T11:51:01.591477Z",
     "shell.execute_reply": "2022-10-06T11:51:01.590348Z"
    },
    "papermill": {
     "duration": 0.490291,
     "end_time": "2022-10-06T11:51:01.594363",
     "exception": false,
     "start_time": "2022-10-06T11:51:01.104072",
     "status": "completed"
    },
    "tags": []
   },
   "outputs": [
    {
     "data": {
      "text/plain": [
       "0"
      ]
     },
     "execution_count": 13,
     "metadata": {},
     "output_type": "execute_result"
    }
   ],
   "source": [
    "# number of payment transactions where isfraud = 1\n",
    "df[(df['type']=='PAYMENT')&(df['isFraud']==1)]['isFraud'].sum()"
   ]
  },
  {
   "cell_type": "markdown",
   "id": "e080b8c2",
   "metadata": {
    "papermill": {
     "duration": 0.015055,
     "end_time": "2022-10-06T11:51:01.624291",
     "exception": false,
     "start_time": "2022-10-06T11:51:01.609236",
     "status": "completed"
    },
    "tags": []
   },
   "source": [
    "### 1.5]We will do the same thing for isflaggedfraud column for each payment type"
   ]
  },
  {
   "cell_type": "code",
   "execution_count": 14,
   "id": "3ea5abe6",
   "metadata": {
    "execution": {
     "iopub.execute_input": "2022-10-06T11:51:01.655557Z",
     "iopub.status.busy": "2022-10-06T11:51:01.655122Z",
     "iopub.status.idle": "2022-10-06T11:51:02.118446Z",
     "shell.execute_reply": "2022-10-06T11:51:02.117248Z"
    },
    "papermill": {
     "duration": 0.482215,
     "end_time": "2022-10-06T11:51:02.121224",
     "exception": false,
     "start_time": "2022-10-06T11:51:01.639009",
     "status": "completed"
    },
    "tags": []
   },
   "outputs": [
    {
     "data": {
      "text/plain": [
       "16"
      ]
     },
     "execution_count": 14,
     "metadata": {},
     "output_type": "execute_result"
    }
   ],
   "source": [
    "df[(df['type']=='TRANSFER')&(df['isFlaggedFraud']==1)]['isFlaggedFraud'].sum()"
   ]
  },
  {
   "cell_type": "code",
   "execution_count": 15,
   "id": "da2c90ef",
   "metadata": {
    "execution": {
     "iopub.execute_input": "2022-10-06T11:51:02.153039Z",
     "iopub.status.busy": "2022-10-06T11:51:02.152566Z",
     "iopub.status.idle": "2022-10-06T11:51:02.615992Z",
     "shell.execute_reply": "2022-10-06T11:51:02.615068Z"
    },
    "papermill": {
     "duration": 0.482039,
     "end_time": "2022-10-06T11:51:02.618318",
     "exception": false,
     "start_time": "2022-10-06T11:51:02.136279",
     "status": "completed"
    },
    "tags": []
   },
   "outputs": [
    {
     "data": {
      "text/plain": [
       "0"
      ]
     },
     "execution_count": 15,
     "metadata": {},
     "output_type": "execute_result"
    }
   ],
   "source": [
    "df[(df['type']=='CASH_OUT')&(df['isFlaggedFraud']==1)]['isFlaggedFraud'].sum()"
   ]
  },
  {
   "cell_type": "code",
   "execution_count": 16,
   "id": "c49f1f35",
   "metadata": {
    "execution": {
     "iopub.execute_input": "2022-10-06T11:51:02.650706Z",
     "iopub.status.busy": "2022-10-06T11:51:02.650292Z",
     "iopub.status.idle": "2022-10-06T11:51:03.121350Z",
     "shell.execute_reply": "2022-10-06T11:51:03.119840Z"
    },
    "papermill": {
     "duration": 0.490585,
     "end_time": "2022-10-06T11:51:03.124292",
     "exception": false,
     "start_time": "2022-10-06T11:51:02.633707",
     "status": "completed"
    },
    "tags": []
   },
   "outputs": [
    {
     "data": {
      "text/plain": [
       "0"
      ]
     },
     "execution_count": 16,
     "metadata": {},
     "output_type": "execute_result"
    }
   ],
   "source": [
    "df[(df['type']=='CASH_IN')&(df['isFlaggedFraud']==1)]['isFlaggedFraud'].sum()"
   ]
  },
  {
   "cell_type": "code",
   "execution_count": 17,
   "id": "9d3bd076",
   "metadata": {
    "execution": {
     "iopub.execute_input": "2022-10-06T11:51:03.159210Z",
     "iopub.status.busy": "2022-10-06T11:51:03.158806Z",
     "iopub.status.idle": "2022-10-06T11:51:03.637381Z",
     "shell.execute_reply": "2022-10-06T11:51:03.636087Z"
    },
    "papermill": {
     "duration": 0.49925,
     "end_time": "2022-10-06T11:51:03.640209",
     "exception": false,
     "start_time": "2022-10-06T11:51:03.140959",
     "status": "completed"
    },
    "tags": []
   },
   "outputs": [
    {
     "data": {
      "text/plain": [
       "0"
      ]
     },
     "execution_count": 17,
     "metadata": {},
     "output_type": "execute_result"
    }
   ],
   "source": [
    "df[(df['type']=='PAYMENT')&(df['isFlaggedFraud']==1)]['isFlaggedFraud'].sum()"
   ]
  },
  {
   "cell_type": "code",
   "execution_count": 18,
   "id": "deb44c72",
   "metadata": {
    "execution": {
     "iopub.execute_input": "2022-10-06T11:51:03.673898Z",
     "iopub.status.busy": "2022-10-06T11:51:03.673432Z",
     "iopub.status.idle": "2022-10-06T11:51:04.085716Z",
     "shell.execute_reply": "2022-10-06T11:51:04.084442Z"
    },
    "papermill": {
     "duration": 0.432272,
     "end_time": "2022-10-06T11:51:04.088466",
     "exception": false,
     "start_time": "2022-10-06T11:51:03.656194",
     "status": "completed"
    },
    "tags": []
   },
   "outputs": [
    {
     "data": {
      "text/plain": [
       "0"
      ]
     },
     "execution_count": 18,
     "metadata": {},
     "output_type": "execute_result"
    }
   ],
   "source": [
    "df[(df['type']=='DEBIT')&(df['isFlaggedFraud']==1)]['isFlaggedFraud'].sum()"
   ]
  },
  {
   "cell_type": "markdown",
   "id": "90f99760",
   "metadata": {
    "papermill": {
     "duration": 0.015766,
     "end_time": "2022-10-06T11:51:04.120327",
     "exception": false,
     "start_time": "2022-10-06T11:51:04.104561",
     "status": "completed"
    },
    "tags": []
   },
   "source": [
    "### 1.6]Checking whether isFlaggedFraud depends on a customer transacting more than once?  "
   ]
  },
  {
   "cell_type": "code",
   "execution_count": 19,
   "id": "dfc1e3c4",
   "metadata": {
    "execution": {
     "iopub.execute_input": "2022-10-06T11:51:04.157643Z",
     "iopub.status.busy": "2022-10-06T11:51:04.156849Z",
     "iopub.status.idle": "2022-10-06T11:51:04.617534Z",
     "shell.execute_reply": "2022-10-06T11:51:04.616294Z"
    },
    "papermill": {
     "duration": 0.480632,
     "end_time": "2022-10-06T11:51:04.620473",
     "exception": false,
     "start_time": "2022-10-06T11:51:04.139841",
     "status": "completed"
    },
    "tags": []
   },
   "outputs": [
    {
     "data": {
      "text/plain": [
       "16"
      ]
     },
     "execution_count": 19,
     "metadata": {},
     "output_type": "execute_result"
    }
   ],
   "source": [
    "#the customers who paid the money are unique as there are only 16 isflaggedfraud = 1 in the tranfer type\n",
    "df[(df['type']=='TRANSFER')&(df['isFlaggedFraud']==1)]['nameOrig'].nunique()"
   ]
  },
  {
   "cell_type": "code",
   "execution_count": 20,
   "id": "fc87fa40",
   "metadata": {
    "execution": {
     "iopub.execute_input": "2022-10-06T11:51:04.653343Z",
     "iopub.status.busy": "2022-10-06T11:51:04.652642Z",
     "iopub.status.idle": "2022-10-06T11:51:05.116973Z",
     "shell.execute_reply": "2022-10-06T11:51:05.115765Z"
    },
    "papermill": {
     "duration": 0.483469,
     "end_time": "2022-10-06T11:51:05.119390",
     "exception": false,
     "start_time": "2022-10-06T11:51:04.635921",
     "status": "completed"
    },
    "tags": []
   },
   "outputs": [
    {
     "data": {
      "text/plain": [
       "16"
      ]
     },
     "execution_count": 20,
     "metadata": {},
     "output_type": "execute_result"
    }
   ],
   "source": [
    "#the customers who recieved the money are unique as there are only 16 isflaggedfraud = 1 in the tranfer type\n",
    "df[(df['type']=='TRANSFER')&(df['isFlaggedFraud']==1)]['nameDest'].nunique()"
   ]
  },
  {
   "cell_type": "markdown",
   "id": "94bcd88f",
   "metadata": {
    "execution": {
     "iopub.execute_input": "2022-10-05T09:34:57.341021Z",
     "iopub.status.busy": "2022-10-05T09:34:57.340566Z",
     "iopub.status.idle": "2022-10-05T09:34:57.346819Z",
     "shell.execute_reply": "2022-10-05T09:34:57.345389Z",
     "shell.execute_reply.started": "2022-10-05T09:34:57.340981Z"
    },
    "papermill": {
     "duration": 0.015368,
     "end_time": "2022-10-06T11:51:05.150501",
     "exception": false,
     "start_time": "2022-10-06T11:51:05.135133",
     "status": "completed"
    },
    "tags": []
   },
   "source": [
    "### 1.7] isFlaggedFraud - An illegal attempt in this dataset is an attempt to transfer more than 200000 in a single transaction. Let's see if this holds true "
   ]
  },
  {
   "cell_type": "code",
   "execution_count": 21,
   "id": "b6fcda9f",
   "metadata": {
    "execution": {
     "iopub.execute_input": "2022-10-06T11:51:05.184825Z",
     "iopub.status.busy": "2022-10-06T11:51:05.184114Z",
     "iopub.status.idle": "2022-10-06T11:51:05.641667Z",
     "shell.execute_reply": "2022-10-06T11:51:05.640863Z"
    },
    "papermill": {
     "duration": 0.477308,
     "end_time": "2022-10-06T11:51:05.643918",
     "exception": false,
     "start_time": "2022-10-06T11:51:05.166610",
     "status": "completed"
    },
    "tags": []
   },
   "outputs": [
    {
     "data": {
      "text/plain": [
       "10000000.0"
      ]
     },
     "execution_count": 21,
     "metadata": {},
     "output_type": "execute_result"
    }
   ],
   "source": [
    "df[(df['type']=='TRANSFER')&(df['isFlaggedFraud']==1)]['amount'].max()"
   ]
  },
  {
   "cell_type": "code",
   "execution_count": 22,
   "id": "d4b3cffc",
   "metadata": {
    "execution": {
     "iopub.execute_input": "2022-10-06T11:51:05.678005Z",
     "iopub.status.busy": "2022-10-06T11:51:05.677306Z",
     "iopub.status.idle": "2022-10-06T11:51:06.170955Z",
     "shell.execute_reply": "2022-10-06T11:51:06.169811Z"
    },
    "papermill": {
     "duration": 0.513706,
     "end_time": "2022-10-06T11:51:06.173428",
     "exception": false,
     "start_time": "2022-10-06T11:51:05.659722",
     "status": "completed"
    },
    "tags": []
   },
   "outputs": [
    {
     "data": {
      "text/plain": [
       "353874.22"
      ]
     },
     "execution_count": 22,
     "metadata": {},
     "output_type": "execute_result"
    }
   ],
   "source": [
    "df[(df['type']=='TRANSFER')&(df['isFlaggedFraud']==1)]['amount'].min()"
   ]
  },
  {
   "cell_type": "code",
   "execution_count": 23,
   "id": "153bf8ab",
   "metadata": {
    "execution": {
     "iopub.execute_input": "2022-10-06T11:51:06.207186Z",
     "iopub.status.busy": "2022-10-06T11:51:06.206759Z",
     "iopub.status.idle": "2022-10-06T11:51:06.852969Z",
     "shell.execute_reply": "2022-10-06T11:51:06.851794Z"
    },
    "papermill": {
     "duration": 0.666592,
     "end_time": "2022-10-06T11:51:06.856040",
     "exception": false,
     "start_time": "2022-10-06T11:51:06.189448",
     "status": "completed"
    },
    "tags": []
   },
   "outputs": [
    {
     "data": {
      "text/plain": [
       "2.6"
      ]
     },
     "execution_count": 23,
     "metadata": {},
     "output_type": "execute_result"
    }
   ],
   "source": [
    "df[(df['type']=='TRANSFER')&(df['isFlaggedFraud']==0)]['amount'].min()"
   ]
  },
  {
   "cell_type": "code",
   "execution_count": 24,
   "id": "47c29ec5",
   "metadata": {
    "execution": {
     "iopub.execute_input": "2022-10-06T11:51:06.890677Z",
     "iopub.status.busy": "2022-10-06T11:51:06.890289Z",
     "iopub.status.idle": "2022-10-06T11:51:07.482279Z",
     "shell.execute_reply": "2022-10-06T11:51:07.480861Z"
    },
    "papermill": {
     "duration": 0.612015,
     "end_time": "2022-10-06T11:51:07.484927",
     "exception": false,
     "start_time": "2022-10-06T11:51:06.872912",
     "status": "completed"
    },
    "tags": []
   },
   "outputs": [
    {
     "data": {
      "text/plain": [
       "92445516.64"
      ]
     },
     "execution_count": 24,
     "metadata": {},
     "output_type": "execute_result"
    }
   ],
   "source": [
    "df[(df['type']=='TRANSFER')&(df['isFlaggedFraud']==0)]['amount'].max()"
   ]
  },
  {
   "cell_type": "markdown",
   "id": "e6c0825e",
   "metadata": {
    "papermill": {
     "duration": 0.015756,
     "end_time": "2022-10-06T11:51:07.516830",
     "exception": false,
     "start_time": "2022-10-06T11:51:07.501074",
     "status": "completed"
    },
    "tags": []
   },
   "source": [
    "<a id='EDAConc'></a>\n",
    "## 2] Conclusion from EDA\n",
    "### 2.1] About isFraud: \n",
    "*  Only Cashout and transfer types have fraud cases. \n",
    "*  So we will drop the debit, cashin and payments transaction from our dataset as we have no use for them and it will also shorten the table"
   ]
  },
  {
   "cell_type": "markdown",
   "id": "deac6476",
   "metadata": {
    "papermill": {
     "duration": 0.015739,
     "end_time": "2022-10-06T11:51:07.548858",
     "exception": false,
     "start_time": "2022-10-06T11:51:07.533119",
     "status": "completed"
    },
    "tags": []
   },
   "source": [
    "### 2.2]About isflaggedfraud:\n",
    "*  isFlaggedFraud is set 1 just 16 times in a meaningless way\n",
    "*  isFlaggedFraud being set 1 cannot be thresholded on amount transferred since the corresponding range of values overlaps with that for TRANSFERs where isFlaggedFraud is set 0\n",
    "*  it also does not hold true for the definition of the column i.e (An illegal attempt in this dataset is an attempt to transfer more than 200000 in a single transaction)\n",
    "*  isFlaggedFraud is set 1 for unique customers. There are no same customers who are being flagged\n",
    "*  Thus we can treat isFlaggedFraud as insignificant and discard it in the dataset without loosing information."
   ]
  },
  {
   "cell_type": "markdown",
   "id": "fc3e00c5",
   "metadata": {
    "papermill": {
     "duration": 0.015658,
     "end_time": "2022-10-06T11:51:07.580511",
     "exception": false,
     "start_time": "2022-10-06T11:51:07.564853",
     "status": "completed"
    },
    "tags": []
   },
   "source": [
    "<a id='cleaning'></a>\n",
    "## 3] Data cleaning\n",
    "### 3.1] Droping useless attributes - payment, debit, cash in transactions and isflagged fraud column"
   ]
  },
  {
   "cell_type": "code",
   "execution_count": 25,
   "id": "f658dad7",
   "metadata": {
    "execution": {
     "iopub.execute_input": "2022-10-06T11:51:07.614822Z",
     "iopub.status.busy": "2022-10-06T11:51:07.614093Z",
     "iopub.status.idle": "2022-10-06T11:51:31.064057Z",
     "shell.execute_reply": "2022-10-06T11:51:31.062853Z"
    },
    "papermill": {
     "duration": 23.470135,
     "end_time": "2022-10-06T11:51:31.066679",
     "exception": false,
     "start_time": "2022-10-06T11:51:07.596544",
     "status": "completed"
    },
    "tags": []
   },
   "outputs": [
    {
     "data": {
      "text/html": [
       "<div>\n",
       "<style scoped>\n",
       "    .dataframe tbody tr th:only-of-type {\n",
       "        vertical-align: middle;\n",
       "    }\n",
       "\n",
       "    .dataframe tbody tr th {\n",
       "        vertical-align: top;\n",
       "    }\n",
       "\n",
       "    .dataframe thead th {\n",
       "        text-align: right;\n",
       "    }\n",
       "</style>\n",
       "<table border=\"1\" class=\"dataframe\">\n",
       "  <thead>\n",
       "    <tr style=\"text-align: right;\">\n",
       "      <th></th>\n",
       "      <th>step</th>\n",
       "      <th>type</th>\n",
       "      <th>amount</th>\n",
       "      <th>nameOrig</th>\n",
       "      <th>oldbalanceOrg</th>\n",
       "      <th>newbalanceOrig</th>\n",
       "      <th>nameDest</th>\n",
       "      <th>oldbalanceDest</th>\n",
       "      <th>newbalanceDest</th>\n",
       "      <th>isFraud</th>\n",
       "    </tr>\n",
       "  </thead>\n",
       "  <tbody>\n",
       "    <tr>\n",
       "      <th>2</th>\n",
       "      <td>1</td>\n",
       "      <td>TRANSFER</td>\n",
       "      <td>181.00</td>\n",
       "      <td>C1305486145</td>\n",
       "      <td>181.0</td>\n",
       "      <td>0.0</td>\n",
       "      <td>C553264065</td>\n",
       "      <td>0.0</td>\n",
       "      <td>0.00</td>\n",
       "      <td>1</td>\n",
       "    </tr>\n",
       "    <tr>\n",
       "      <th>3</th>\n",
       "      <td>1</td>\n",
       "      <td>CASH_OUT</td>\n",
       "      <td>181.00</td>\n",
       "      <td>C840083671</td>\n",
       "      <td>181.0</td>\n",
       "      <td>0.0</td>\n",
       "      <td>C38997010</td>\n",
       "      <td>21182.0</td>\n",
       "      <td>0.00</td>\n",
       "      <td>1</td>\n",
       "    </tr>\n",
       "    <tr>\n",
       "      <th>15</th>\n",
       "      <td>1</td>\n",
       "      <td>CASH_OUT</td>\n",
       "      <td>229133.94</td>\n",
       "      <td>C905080434</td>\n",
       "      <td>15325.0</td>\n",
       "      <td>0.0</td>\n",
       "      <td>C476402209</td>\n",
       "      <td>5083.0</td>\n",
       "      <td>51513.44</td>\n",
       "      <td>0</td>\n",
       "    </tr>\n",
       "    <tr>\n",
       "      <th>19</th>\n",
       "      <td>1</td>\n",
       "      <td>TRANSFER</td>\n",
       "      <td>215310.30</td>\n",
       "      <td>C1670993182</td>\n",
       "      <td>705.0</td>\n",
       "      <td>0.0</td>\n",
       "      <td>C1100439041</td>\n",
       "      <td>22425.0</td>\n",
       "      <td>0.00</td>\n",
       "      <td>0</td>\n",
       "    </tr>\n",
       "    <tr>\n",
       "      <th>24</th>\n",
       "      <td>1</td>\n",
       "      <td>TRANSFER</td>\n",
       "      <td>311685.89</td>\n",
       "      <td>C1984094095</td>\n",
       "      <td>10835.0</td>\n",
       "      <td>0.0</td>\n",
       "      <td>C932583850</td>\n",
       "      <td>6267.0</td>\n",
       "      <td>2719172.89</td>\n",
       "      <td>0</td>\n",
       "    </tr>\n",
       "  </tbody>\n",
       "</table>\n",
       "</div>"
      ],
      "text/plain": [
       "    step      type     amount     nameOrig  oldbalanceOrg  newbalanceOrig  \\\n",
       "2      1  TRANSFER     181.00  C1305486145          181.0             0.0   \n",
       "3      1  CASH_OUT     181.00   C840083671          181.0             0.0   \n",
       "15     1  CASH_OUT  229133.94   C905080434        15325.0             0.0   \n",
       "19     1  TRANSFER  215310.30  C1670993182          705.0             0.0   \n",
       "24     1  TRANSFER  311685.89  C1984094095        10835.0             0.0   \n",
       "\n",
       "       nameDest  oldbalanceDest  newbalanceDest  isFraud  \n",
       "2    C553264065             0.0            0.00        1  \n",
       "3     C38997010         21182.0            0.00        1  \n",
       "15   C476402209          5083.0        51513.44        0  \n",
       "19  C1100439041         22425.0            0.00        0  \n",
       "24   C932583850          6267.0      2719172.89        0  "
      ]
     },
     "execution_count": 25,
     "metadata": {},
     "output_type": "execute_result"
    }
   ],
   "source": [
    "dt= pd.read_csv(\"../input/fraud-transaction-detection/Fraud (1).csv\")\n",
    "dt.drop(dt[dt.type == 'PAYMENT'].index, inplace=True)\n",
    "dt.drop(dt[dt.type == 'DEBIT'].index, inplace=True)\n",
    "dt.drop(dt[dt.type == 'CASH_IN'].index, inplace=True)\n",
    "dt.drop('isFlaggedFraud', axis=1, inplace=True)\n",
    "dt.head()"
   ]
  },
  {
   "cell_type": "markdown",
   "id": "d6dfb243",
   "metadata": {
    "papermill": {
     "duration": 0.016001,
     "end_time": "2022-10-06T11:51:31.099347",
     "exception": false,
     "start_time": "2022-10-06T11:51:31.083346",
     "status": "completed"
    },
    "tags": []
   },
   "source": [
    "<a id='percent'></a>\n",
    "### 3.2] Finding the number and percent of fraud and legit transactions in the cleaned data"
   ]
  },
  {
   "cell_type": "code",
   "execution_count": 26,
   "id": "56918b5e",
   "metadata": {
    "execution": {
     "iopub.execute_input": "2022-10-06T11:51:31.133704Z",
     "iopub.status.busy": "2022-10-06T11:51:31.133323Z",
     "iopub.status.idle": "2022-10-06T11:51:31.140315Z",
     "shell.execute_reply": "2022-10-06T11:51:31.139159Z"
    },
    "papermill": {
     "duration": 0.027204,
     "end_time": "2022-10-06T11:51:31.142805",
     "exception": false,
     "start_time": "2022-10-06T11:51:31.115601",
     "status": "completed"
    },
    "tags": []
   },
   "outputs": [
    {
     "data": {
      "text/plain": [
       "2770409"
      ]
     },
     "execution_count": 26,
     "metadata": {},
     "output_type": "execute_result"
    }
   ],
   "source": [
    "#no. of transactions in the cleaned data\n",
    "len(dt)"
   ]
  },
  {
   "cell_type": "code",
   "execution_count": 27,
   "id": "345061d3",
   "metadata": {
    "execution": {
     "iopub.execute_input": "2022-10-06T11:51:31.177382Z",
     "iopub.status.busy": "2022-10-06T11:51:31.176956Z",
     "iopub.status.idle": "2022-10-06T11:51:31.553660Z",
     "shell.execute_reply": "2022-10-06T11:51:31.552012Z"
    },
    "papermill": {
     "duration": 0.396677,
     "end_time": "2022-10-06T11:51:31.556024",
     "exception": false,
     "start_time": "2022-10-06T11:51:31.159347",
     "status": "completed"
    },
    "tags": []
   },
   "outputs": [
    {
     "name": "stdout",
     "output_type": "stream",
     "text": [
      "Number of Legit transactions:  2762196\n",
      "Number of Fraud transactions:  8213\n",
      "Percentage of Legit transactions: 99.7035 %\n",
      "Percentage of Fraud transactions: 0.2965 %\n"
     ]
    }
   ],
   "source": [
    "legit = len(dt[dt.isFraud == 0])\n",
    "fraud = len(dt[dt.isFraud == 1])\n",
    "legit_percent = (legit / (fraud + legit)) * 100\n",
    "fraud_percent = (fraud / (fraud + legit)) * 100\n",
    "\n",
    "print(\"Number of Legit transactions: \", legit)\n",
    "print(\"Number of Fraud transactions: \", fraud)\n",
    "print(\"Percentage of Legit transactions: {:.4f} %\".format(legit_percent))\n",
    "print(\"Percentage of Fraud transactions: {:.4f} %\".format(fraud_percent))"
   ]
  },
  {
   "cell_type": "markdown",
   "id": "db9741a8",
   "metadata": {
    "papermill": {
     "duration": 0.016341,
     "end_time": "2022-10-06T11:51:31.589480",
     "exception": false,
     "start_time": "2022-10-06T11:51:31.573139",
     "status": "completed"
    },
    "tags": []
   },
   "source": [
    "### 3.3] Making the data suitable for a ML model"
   ]
  },
  {
   "cell_type": "code",
   "execution_count": 28,
   "id": "cfdbc320",
   "metadata": {
    "execution": {
     "iopub.execute_input": "2022-10-06T11:51:31.625039Z",
     "iopub.status.busy": "2022-10-06T11:51:31.624618Z",
     "iopub.status.idle": "2022-10-06T11:51:32.019993Z",
     "shell.execute_reply": "2022-10-06T11:51:32.019101Z"
    },
    "papermill": {
     "duration": 0.416144,
     "end_time": "2022-10-06T11:51:32.022051",
     "exception": false,
     "start_time": "2022-10-06T11:51:31.605907",
     "status": "completed"
    },
    "tags": []
   },
   "outputs": [
    {
     "data": {
      "text/html": [
       "<div>\n",
       "<style scoped>\n",
       "    .dataframe tbody tr th:only-of-type {\n",
       "        vertical-align: middle;\n",
       "    }\n",
       "\n",
       "    .dataframe tbody tr th {\n",
       "        vertical-align: top;\n",
       "    }\n",
       "\n",
       "    .dataframe thead th {\n",
       "        text-align: right;\n",
       "    }\n",
       "</style>\n",
       "<table border=\"1\" class=\"dataframe\">\n",
       "  <thead>\n",
       "    <tr style=\"text-align: right;\">\n",
       "      <th></th>\n",
       "      <th>step</th>\n",
       "      <th>type</th>\n",
       "      <th>amount</th>\n",
       "      <th>oldbalanceOrg</th>\n",
       "      <th>newbalanceOrig</th>\n",
       "      <th>oldbalanceDest</th>\n",
       "      <th>newbalanceDest</th>\n",
       "      <th>isFraud</th>\n",
       "    </tr>\n",
       "  </thead>\n",
       "  <tbody>\n",
       "    <tr>\n",
       "      <th>2</th>\n",
       "      <td>1</td>\n",
       "      <td>TRANSFER</td>\n",
       "      <td>181.00</td>\n",
       "      <td>181.0</td>\n",
       "      <td>0.0</td>\n",
       "      <td>0.0</td>\n",
       "      <td>0.00</td>\n",
       "      <td>1</td>\n",
       "    </tr>\n",
       "    <tr>\n",
       "      <th>3</th>\n",
       "      <td>1</td>\n",
       "      <td>CASH_OUT</td>\n",
       "      <td>181.00</td>\n",
       "      <td>181.0</td>\n",
       "      <td>0.0</td>\n",
       "      <td>21182.0</td>\n",
       "      <td>0.00</td>\n",
       "      <td>1</td>\n",
       "    </tr>\n",
       "    <tr>\n",
       "      <th>15</th>\n",
       "      <td>1</td>\n",
       "      <td>CASH_OUT</td>\n",
       "      <td>229133.94</td>\n",
       "      <td>15325.0</td>\n",
       "      <td>0.0</td>\n",
       "      <td>5083.0</td>\n",
       "      <td>51513.44</td>\n",
       "      <td>0</td>\n",
       "    </tr>\n",
       "    <tr>\n",
       "      <th>19</th>\n",
       "      <td>1</td>\n",
       "      <td>TRANSFER</td>\n",
       "      <td>215310.30</td>\n",
       "      <td>705.0</td>\n",
       "      <td>0.0</td>\n",
       "      <td>22425.0</td>\n",
       "      <td>0.00</td>\n",
       "      <td>0</td>\n",
       "    </tr>\n",
       "    <tr>\n",
       "      <th>24</th>\n",
       "      <td>1</td>\n",
       "      <td>TRANSFER</td>\n",
       "      <td>311685.89</td>\n",
       "      <td>10835.0</td>\n",
       "      <td>0.0</td>\n",
       "      <td>6267.0</td>\n",
       "      <td>2719172.89</td>\n",
       "      <td>0</td>\n",
       "    </tr>\n",
       "  </tbody>\n",
       "</table>\n",
       "</div>"
      ],
      "text/plain": [
       "    step      type     amount  oldbalanceOrg  newbalanceOrig  oldbalanceDest  \\\n",
       "2      1  TRANSFER     181.00          181.0             0.0             0.0   \n",
       "3      1  CASH_OUT     181.00          181.0             0.0         21182.0   \n",
       "15     1  CASH_OUT  229133.94        15325.0             0.0          5083.0   \n",
       "19     1  TRANSFER  215310.30          705.0             0.0         22425.0   \n",
       "24     1  TRANSFER  311685.89        10835.0             0.0          6267.0   \n",
       "\n",
       "    newbalanceDest  isFraud  \n",
       "2             0.00        1  \n",
       "3             0.00        1  \n",
       "15        51513.44        0  \n",
       "19            0.00        0  \n",
       "24      2719172.89        0  "
      ]
     },
     "execution_count": 28,
     "metadata": {},
     "output_type": "execute_result"
    }
   ],
   "source": [
    "#making a new dataframe for droping name of the customer columns\n",
    "df2=dt.copy()\n",
    "df2.drop(['nameOrig','nameDest'], axis=1, inplace=True)\n",
    "df2.head()"
   ]
  },
  {
   "cell_type": "code",
   "execution_count": 29,
   "id": "17cf1f2c",
   "metadata": {
    "execution": {
     "iopub.execute_input": "2022-10-06T11:51:32.058152Z",
     "iopub.status.busy": "2022-10-06T11:51:32.056991Z",
     "iopub.status.idle": "2022-10-06T11:51:33.125278Z",
     "shell.execute_reply": "2022-10-06T11:51:33.124352Z"
    },
    "papermill": {
     "duration": 1.088682,
     "end_time": "2022-10-06T11:51:33.127573",
     "exception": false,
     "start_time": "2022-10-06T11:51:32.038891",
     "status": "completed"
    },
    "tags": []
   },
   "outputs": [
    {
     "data": {
      "text/html": [
       "<div>\n",
       "<style scoped>\n",
       "    .dataframe tbody tr th:only-of-type {\n",
       "        vertical-align: middle;\n",
       "    }\n",
       "\n",
       "    .dataframe tbody tr th {\n",
       "        vertical-align: top;\n",
       "    }\n",
       "\n",
       "    .dataframe thead th {\n",
       "        text-align: right;\n",
       "    }\n",
       "</style>\n",
       "<table border=\"1\" class=\"dataframe\">\n",
       "  <thead>\n",
       "    <tr style=\"text-align: right;\">\n",
       "      <th></th>\n",
       "      <th>step</th>\n",
       "      <th>type</th>\n",
       "      <th>amount</th>\n",
       "      <th>oldbalanceOrg</th>\n",
       "      <th>newbalanceOrig</th>\n",
       "      <th>oldbalanceDest</th>\n",
       "      <th>newbalanceDest</th>\n",
       "      <th>isFraud</th>\n",
       "    </tr>\n",
       "  </thead>\n",
       "  <tbody>\n",
       "    <tr>\n",
       "      <th>2</th>\n",
       "      <td>1</td>\n",
       "      <td>1</td>\n",
       "      <td>181.00</td>\n",
       "      <td>181.0</td>\n",
       "      <td>0.0</td>\n",
       "      <td>0.0</td>\n",
       "      <td>0.00</td>\n",
       "      <td>1</td>\n",
       "    </tr>\n",
       "    <tr>\n",
       "      <th>3</th>\n",
       "      <td>1</td>\n",
       "      <td>0</td>\n",
       "      <td>181.00</td>\n",
       "      <td>181.0</td>\n",
       "      <td>0.0</td>\n",
       "      <td>21182.0</td>\n",
       "      <td>0.00</td>\n",
       "      <td>1</td>\n",
       "    </tr>\n",
       "    <tr>\n",
       "      <th>15</th>\n",
       "      <td>1</td>\n",
       "      <td>0</td>\n",
       "      <td>229133.94</td>\n",
       "      <td>15325.0</td>\n",
       "      <td>0.0</td>\n",
       "      <td>5083.0</td>\n",
       "      <td>51513.44</td>\n",
       "      <td>0</td>\n",
       "    </tr>\n",
       "    <tr>\n",
       "      <th>19</th>\n",
       "      <td>1</td>\n",
       "      <td>1</td>\n",
       "      <td>215310.30</td>\n",
       "      <td>705.0</td>\n",
       "      <td>0.0</td>\n",
       "      <td>22425.0</td>\n",
       "      <td>0.00</td>\n",
       "      <td>0</td>\n",
       "    </tr>\n",
       "    <tr>\n",
       "      <th>24</th>\n",
       "      <td>1</td>\n",
       "      <td>1</td>\n",
       "      <td>311685.89</td>\n",
       "      <td>10835.0</td>\n",
       "      <td>0.0</td>\n",
       "      <td>6267.0</td>\n",
       "      <td>2719172.89</td>\n",
       "      <td>0</td>\n",
       "    </tr>\n",
       "  </tbody>\n",
       "</table>\n",
       "</div>"
      ],
      "text/plain": [
       "    step  type     amount  oldbalanceOrg  newbalanceOrig  oldbalanceDest  \\\n",
       "2      1     1     181.00          181.0             0.0             0.0   \n",
       "3      1     0     181.00          181.0             0.0         21182.0   \n",
       "15     1     0  229133.94        15325.0             0.0          5083.0   \n",
       "19     1     1  215310.30          705.0             0.0         22425.0   \n",
       "24     1     1  311685.89        10835.0             0.0          6267.0   \n",
       "\n",
       "    newbalanceDest  isFraud  \n",
       "2             0.00        1  \n",
       "3             0.00        1  \n",
       "15        51513.44        0  \n",
       "19            0.00        0  \n",
       "24      2719172.89        0  "
      ]
     },
     "execution_count": 29,
     "metadata": {},
     "output_type": "execute_result"
    }
   ],
   "source": [
    "#Giving binary values to type column \n",
    "df3 = df2.replace({'type':{'TRANSFER':1, 'CASH_OUT':0}})\n",
    "df3.head()"
   ]
  },
  {
   "cell_type": "markdown",
   "id": "084a9b3b",
   "metadata": {
    "papermill": {
     "duration": 0.017345,
     "end_time": "2022-10-06T11:51:33.162690",
     "exception": false,
     "start_time": "2022-10-06T11:51:33.145345",
     "status": "completed"
    },
    "tags": []
   },
   "source": [
    "<a id='colinearity'></a>\n",
    "### 3.4] Checking for colinearity"
   ]
  },
  {
   "cell_type": "code",
   "execution_count": 30,
   "id": "e5e98014",
   "metadata": {
    "execution": {
     "iopub.execute_input": "2022-10-06T11:51:33.200003Z",
     "iopub.status.busy": "2022-10-06T11:51:33.199371Z",
     "iopub.status.idle": "2022-10-06T11:51:34.545437Z",
     "shell.execute_reply": "2022-10-06T11:51:34.544517Z"
    },
    "papermill": {
     "duration": 1.367214,
     "end_time": "2022-10-06T11:51:34.547602",
     "exception": false,
     "start_time": "2022-10-06T11:51:33.180388",
     "status": "completed"
    },
    "tags": []
   },
   "outputs": [
    {
     "data": {
      "text/plain": [
       "<AxesSubplot:>"
      ]
     },
     "execution_count": 30,
     "metadata": {},
     "output_type": "execute_result"
    },
    {
     "data": {
      "image/png": "[encoded data removed]",
      "text/plain": [
       "<Figure size 720x432 with 2 Axes>"
      ]
     },
     "metadata": {
      "needs_background": "light"
     },
     "output_type": "display_data"
    }
   ],
   "source": [
    "corr=df3.corr()\n",
    "plt.figure(figsize=(10,6))\n",
    "sns.heatmap(corr,annot=True)"
   ]
  },
  {
   "cell_type": "code",
   "execution_count": 31,
   "id": "6c601d38",
   "metadata": {
    "execution": {
     "iopub.execute_input": "2022-10-06T11:51:34.585384Z",
     "iopub.status.busy": "2022-10-06T11:51:34.584760Z",
     "iopub.status.idle": "2022-10-06T11:51:54.431018Z",
     "shell.execute_reply": "2022-10-06T11:51:54.429294Z"
    },
    "papermill": {
     "duration": 19.869933,
     "end_time": "2022-10-06T11:51:54.435451",
     "exception": false,
     "start_time": "2022-10-06T11:51:34.565518",
     "status": "completed"
    },
    "tags": []
   },
   "outputs": [
    {
     "data": {
      "text/html": [
       "<div>\n",
       "<style scoped>\n",
       "    .dataframe tbody tr th:only-of-type {\n",
       "        vertical-align: middle;\n",
       "    }\n",
       "\n",
       "    .dataframe tbody tr th {\n",
       "        vertical-align: top;\n",
       "    }\n",
       "\n",
       "    .dataframe thead th {\n",
       "        text-align: right;\n",
       "    }\n",
       "</style>\n",
       "<table border=\"1\" class=\"dataframe\">\n",
       "  <thead>\n",
       "    <tr style=\"text-align: right;\">\n",
       "      <th></th>\n",
       "      <th>variables</th>\n",
       "      <th>VIF</th>\n",
       "    </tr>\n",
       "  </thead>\n",
       "  <tbody>\n",
       "    <tr>\n",
       "      <th>0</th>\n",
       "      <td>step</td>\n",
       "      <td>1.303409</td>\n",
       "    </tr>\n",
       "    <tr>\n",
       "      <th>1</th>\n",
       "      <td>type</td>\n",
       "      <td>1.339420</td>\n",
       "    </tr>\n",
       "    <tr>\n",
       "      <th>2</th>\n",
       "      <td>amount</td>\n",
       "      <td>5.321689</td>\n",
       "    </tr>\n",
       "    <tr>\n",
       "      <th>3</th>\n",
       "      <td>oldbalanceOrg</td>\n",
       "      <td>3.544097</td>\n",
       "    </tr>\n",
       "    <tr>\n",
       "      <th>4</th>\n",
       "      <td>newbalanceOrig</td>\n",
       "      <td>2.993498</td>\n",
       "    </tr>\n",
       "    <tr>\n",
       "      <th>5</th>\n",
       "      <td>oldbalanceDest</td>\n",
       "      <td>65.292934</td>\n",
       "    </tr>\n",
       "    <tr>\n",
       "      <th>6</th>\n",
       "      <td>newbalanceDest</td>\n",
       "      <td>80.758186</td>\n",
       "    </tr>\n",
       "    <tr>\n",
       "      <th>7</th>\n",
       "      <td>isFraud</td>\n",
       "      <td>1.302325</td>\n",
       "    </tr>\n",
       "  </tbody>\n",
       "</table>\n",
       "</div>"
      ],
      "text/plain": [
       "        variables        VIF\n",
       "0            step   1.303409\n",
       "1            type   1.339420\n",
       "2          amount   5.321689\n",
       "3   oldbalanceOrg   3.544097\n",
       "4  newbalanceOrig   2.993498\n",
       "5  oldbalanceDest  65.292934\n",
       "6  newbalanceDest  80.758186\n",
       "7         isFraud   1.302325"
      ]
     },
     "execution_count": 31,
     "metadata": {},
     "output_type": "execute_result"
    }
   ],
   "source": [
    "# Import library for VIF (VARIANCE INFLATION FACTOR)\n",
    "\n",
    "from statsmodels.stats.outliers_influence import variance_inflation_factor\n",
    "\n",
    "def calc_vif(df):\n",
    "\n",
    "    # Calculating VIF\n",
    "    vif = pd.DataFrame()\n",
    "    vif[\"variables\"] = df.columns\n",
    "    vif[\"VIF\"] = [variance_inflation_factor(df.values, i) for i in range(df.shape[1])]\n",
    "\n",
    "    return(vif)\n",
    "\n",
    "calc_vif(df3)"
   ]
  },
  {
   "cell_type": "markdown",
   "id": "5f0114d4",
   "metadata": {
    "papermill": {
     "duration": 0.046093,
     "end_time": "2022-10-06T11:51:54.529163",
     "exception": false,
     "start_time": "2022-10-06T11:51:54.483070",
     "status": "completed"
    },
    "tags": []
   },
   "source": [
    "<a id='3.5'></a>\n",
    "### 3.5] We can see that (oldbalanceOrg, newbalanceOrig, newbalanceDest, oldbalanceDest) are highly correlated. Can be seen from the heatmap and VIF\n",
    "### We will alter these columns and make them usable for our model."
   ]
  },
  {
   "cell_type": "code",
   "execution_count": 32,
   "id": "928a1602",
   "metadata": {
    "execution": {
     "iopub.execute_input": "2022-10-06T11:51:54.568200Z",
     "iopub.status.busy": "2022-10-06T11:51:54.567779Z",
     "iopub.status.idle": "2022-10-06T11:53:23.653473Z",
     "shell.execute_reply": "2022-10-06T11:53:23.651524Z"
    },
    "papermill": {
     "duration": 89.143065,
     "end_time": "2022-10-06T11:53:23.691257",
     "exception": false,
     "start_time": "2022-10-06T11:51:54.548192",
     "status": "completed"
    },
    "tags": []
   },
   "outputs": [
    {
     "data": {
      "text/html": [
       "<div>\n",
       "<style scoped>\n",
       "    .dataframe tbody tr th:only-of-type {\n",
       "        vertical-align: middle;\n",
       "    }\n",
       "\n",
       "    .dataframe tbody tr th {\n",
       "        vertical-align: top;\n",
       "    }\n",
       "\n",
       "    .dataframe thead th {\n",
       "        text-align: right;\n",
       "    }\n",
       "</style>\n",
       "<table border=\"1\" class=\"dataframe\">\n",
       "  <thead>\n",
       "    <tr style=\"text-align: right;\">\n",
       "      <th></th>\n",
       "      <th>variables</th>\n",
       "      <th>VIF</th>\n",
       "    </tr>\n",
       "  </thead>\n",
       "  <tbody>\n",
       "    <tr>\n",
       "      <th>0</th>\n",
       "      <td>type</td>\n",
       "      <td>1.222515</td>\n",
       "    </tr>\n",
       "    <tr>\n",
       "      <th>1</th>\n",
       "      <td>amount</td>\n",
       "      <td>5.123265</td>\n",
       "    </tr>\n",
       "    <tr>\n",
       "      <th>2</th>\n",
       "      <td>isFraud</td>\n",
       "      <td>1.293728</td>\n",
       "    </tr>\n",
       "    <tr>\n",
       "      <th>3</th>\n",
       "      <td>Actual_amount_orig</td>\n",
       "      <td>1.376070</td>\n",
       "    </tr>\n",
       "    <tr>\n",
       "      <th>4</th>\n",
       "      <td>Actual_amount_dest</td>\n",
       "      <td>4.661681</td>\n",
       "    </tr>\n",
       "  </tbody>\n",
       "</table>\n",
       "</div>"
      ],
      "text/plain": [
       "            variables       VIF\n",
       "0                type  1.222515\n",
       "1              amount  5.123265\n",
       "2             isFraud  1.293728\n",
       "3  Actual_amount_orig  1.376070\n",
       "4  Actual_amount_dest  4.661681"
      ]
     },
     "execution_count": 32,
     "metadata": {},
     "output_type": "execute_result"
    }
   ],
   "source": [
    "df3['Actual_amount_orig'] = df3.apply(lambda x: x['oldbalanceOrg'] - x['newbalanceOrig'],axis=1)\n",
    "df3['Actual_amount_dest'] = df3.apply(lambda x: x['newbalanceDest'] - x['oldbalanceDest'],axis=1)\n",
    "\n",
    "#Dropping columns\n",
    "new_df = df3.drop(['oldbalanceOrg','newbalanceOrig','oldbalanceDest','newbalanceDest', 'step'],axis=1)\n",
    "\n",
    "calc_vif(new_df)"
   ]
  },
  {
   "cell_type": "code",
   "execution_count": 33,
   "id": "823392e7",
   "metadata": {
    "execution": {
     "iopub.execute_input": "2022-10-06T11:53:23.757500Z",
     "iopub.status.busy": "2022-10-06T11:53:23.757054Z",
     "iopub.status.idle": "2022-10-06T11:53:24.427629Z",
     "shell.execute_reply": "2022-10-06T11:53:24.426373Z"
    },
    "papermill": {
     "duration": 0.693829,
     "end_time": "2022-10-06T11:53:24.430358",
     "exception": false,
     "start_time": "2022-10-06T11:53:23.736529",
     "status": "completed"
    },
    "tags": []
   },
   "outputs": [
    {
     "data": {
      "text/plain": [
       "<AxesSubplot:>"
      ]
     },
     "execution_count": 33,
     "metadata": {},
     "output_type": "execute_result"
    },
    {
     "data": {
      "image/png": "[encoded data removed]",
      "text/plain": [
       "<Figure size 720x432 with 2 Axes>"
      ]
     },
     "metadata": {
      "needs_background": "light"
     },
     "output_type": "display_data"
    }
   ],
   "source": [
    "corr=new_df.corr()\n",
    "\n",
    "plt.figure(figsize=(10,6))\n",
    "sns.heatmap(corr,annot=True)"
   ]
  },
  {
   "cell_type": "code",
   "execution_count": 34,
   "id": "365e3beb",
   "metadata": {
    "execution": {
     "iopub.execute_input": "2022-10-06T11:53:24.471885Z",
     "iopub.status.busy": "2022-10-06T11:53:24.471163Z",
     "iopub.status.idle": "2022-10-06T11:53:24.550062Z",
     "shell.execute_reply": "2022-10-06T11:53:24.548918Z"
    },
    "papermill": {
     "duration": 0.102958,
     "end_time": "2022-10-06T11:53:24.552844",
     "exception": false,
     "start_time": "2022-10-06T11:53:24.449886",
     "status": "completed"
    },
    "tags": []
   },
   "outputs": [
    {
     "data": {
      "text/html": [
       "<div>\n",
       "<style scoped>\n",
       "    .dataframe tbody tr th:only-of-type {\n",
       "        vertical-align: middle;\n",
       "    }\n",
       "\n",
       "    .dataframe tbody tr th {\n",
       "        vertical-align: top;\n",
       "    }\n",
       "\n",
       "    .dataframe thead th {\n",
       "        text-align: right;\n",
       "    }\n",
       "</style>\n",
       "<table border=\"1\" class=\"dataframe\">\n",
       "  <thead>\n",
       "    <tr style=\"text-align: right;\">\n",
       "      <th></th>\n",
       "      <th>type</th>\n",
       "      <th>amount</th>\n",
       "      <th>isFraud</th>\n",
       "      <th>Actual_amount_orig</th>\n",
       "      <th>Actual_amount_dest</th>\n",
       "    </tr>\n",
       "  </thead>\n",
       "  <tbody>\n",
       "    <tr>\n",
       "      <th>2</th>\n",
       "      <td>1</td>\n",
       "      <td>181.00</td>\n",
       "      <td>1</td>\n",
       "      <td>181.0</td>\n",
       "      <td>0.00</td>\n",
       "    </tr>\n",
       "    <tr>\n",
       "      <th>3</th>\n",
       "      <td>0</td>\n",
       "      <td>181.00</td>\n",
       "      <td>1</td>\n",
       "      <td>181.0</td>\n",
       "      <td>-21182.00</td>\n",
       "    </tr>\n",
       "    <tr>\n",
       "      <th>15</th>\n",
       "      <td>0</td>\n",
       "      <td>229133.94</td>\n",
       "      <td>0</td>\n",
       "      <td>15325.0</td>\n",
       "      <td>46430.44</td>\n",
       "    </tr>\n",
       "    <tr>\n",
       "      <th>19</th>\n",
       "      <td>1</td>\n",
       "      <td>215310.30</td>\n",
       "      <td>0</td>\n",
       "      <td>705.0</td>\n",
       "      <td>-22425.00</td>\n",
       "    </tr>\n",
       "    <tr>\n",
       "      <th>24</th>\n",
       "      <td>1</td>\n",
       "      <td>311685.89</td>\n",
       "      <td>0</td>\n",
       "      <td>10835.0</td>\n",
       "      <td>2712905.89</td>\n",
       "    </tr>\n",
       "  </tbody>\n",
       "</table>\n",
       "</div>"
      ],
      "text/plain": [
       "    type     amount  isFraud  Actual_amount_orig  Actual_amount_dest\n",
       "2      1     181.00        1               181.0                0.00\n",
       "3      0     181.00        1               181.0           -21182.00\n",
       "15     0  229133.94        0             15325.0            46430.44\n",
       "19     1  215310.30        0               705.0           -22425.00\n",
       "24     1  311685.89        0             10835.0          2712905.89"
      ]
     },
     "execution_count": 34,
     "metadata": {},
     "output_type": "execute_result"
    }
   ],
   "source": [
    "new_df2=new_df.copy()\n",
    "\n",
    "Y = new_df2[\"isFraud\"]\n",
    "X = new_df2.drop([\"isFraud\"], axis= 1)\n",
    "new_df2.head()"
   ]
  },
  {
   "cell_type": "markdown",
   "id": "1e9421ad",
   "metadata": {
    "papermill": {
     "duration": 0.018756,
     "end_time": "2022-10-06T11:53:24.590843",
     "exception": false,
     "start_time": "2022-10-06T11:53:24.572087",
     "status": "completed"
    },
    "tags": []
   },
   "source": [
    "<a id='model'></a>\n",
    "### 4] Model Building"
   ]
  },
  {
   "cell_type": "markdown",
   "id": "2267dca3",
   "metadata": {
    "papermill": {
     "duration": 0.018487,
     "end_time": "2022-10-06T11:53:24.628694",
     "exception": false,
     "start_time": "2022-10-06T11:53:24.610207",
     "status": "completed"
    },
    "tags": []
   },
   "source": [
    "### will try out different classification models to see which gives the best results"
   ]
  },
  {
   "cell_type": "code",
   "execution_count": 35,
   "id": "3972902e",
   "metadata": {
    "execution": {
     "iopub.execute_input": "2022-10-06T11:53:24.668623Z",
     "iopub.status.busy": "2022-10-06T11:53:24.668208Z",
     "iopub.status.idle": "2022-10-06T11:53:25.053642Z",
     "shell.execute_reply": "2022-10-06T11:53:25.052272Z"
    },
    "papermill": {
     "duration": 0.408804,
     "end_time": "2022-10-06T11:53:25.056458",
     "exception": false,
     "start_time": "2022-10-06T11:53:24.647654",
     "status": "completed"
    },
    "tags": []
   },
   "outputs": [],
   "source": [
    "from sklearn.preprocessing import StandardScaler\n",
    "from sklearn.model_selection import train_test_split\n",
    "from sklearn.linear_model import LogisticRegression\n",
    "from sklearn.tree import DecisionTreeClassifier\n",
    "import sklearn.metrics as metrics\n",
    "from sklearn.metrics import classification_report, confusion_matrix"
   ]
  },
  {
   "cell_type": "code",
   "execution_count": 36,
   "id": "4febb016",
   "metadata": {
    "execution": {
     "iopub.execute_input": "2022-10-06T11:53:25.096935Z",
     "iopub.status.busy": "2022-10-06T11:53:25.096432Z",
     "iopub.status.idle": "2022-10-06T11:53:25.667700Z",
     "shell.execute_reply": "2022-10-06T11:53:25.665823Z"
    },
    "papermill": {
     "duration": 0.595821,
     "end_time": "2022-10-06T11:53:25.671499",
     "exception": false,
     "start_time": "2022-10-06T11:53:25.075678",
     "status": "completed"
    },
    "tags": []
   },
   "outputs": [
    {
     "name": "stdout",
     "output_type": "stream",
     "text": [
      "Shape of X_train:  (1939286, 4)\n",
      "Shape of X_test:  (831123, 4)\n"
     ]
    }
   ],
   "source": [
    "# Split the data\n",
    "(X_train, X_test, Y_train, Y_test) = train_test_split(X, Y, test_size= 0.3, random_state= 42)\n",
    "\n",
    "print(\"Shape of X_train: \", X_train.shape)\n",
    "print(\"Shape of X_test: \", X_test.shape)"
   ]
  },
  {
   "cell_type": "markdown",
   "id": "d7526e71",
   "metadata": {
    "papermill": {
     "duration": 0.018984,
     "end_time": "2022-10-06T11:53:25.710015",
     "exception": false,
     "start_time": "2022-10-06T11:53:25.691031",
     "status": "completed"
    },
    "tags": []
   },
   "source": [
    "<a id='LR'></a>\n",
    "### 4.1] Logistic Regression"
   ]
  },
  {
   "cell_type": "code",
   "execution_count": 37,
   "id": "b51c3b64",
   "metadata": {
    "execution": {
     "iopub.execute_input": "2022-10-06T11:53:25.750464Z",
     "iopub.status.busy": "2022-10-06T11:53:25.749983Z",
     "iopub.status.idle": "2022-10-06T11:53:33.387279Z",
     "shell.execute_reply": "2022-10-06T11:53:33.385495Z"
    },
    "papermill": {
     "duration": 7.660698,
     "end_time": "2022-10-06T11:53:33.390015",
     "exception": false,
     "start_time": "2022-10-06T11:53:25.729317",
     "status": "completed"
    },
    "tags": []
   },
   "outputs": [
    {
     "name": "stdout",
     "output_type": "stream",
     "text": [
      "              precision    recall  f1-score   support\n",
      "\n",
      "           0       1.00      1.00      1.00    828627\n",
      "           1       0.36      0.50      0.42      2496\n",
      "\n",
      "    accuracy                           1.00    831123\n",
      "   macro avg       0.68      0.75      0.71    831123\n",
      "weighted avg       1.00      1.00      1.00    831123\n",
      "\n"
     ]
    }
   ],
   "source": [
    "lm = LogisticRegression()\n",
    "lm.fit(X_train, Y_train)\n",
    "pr = lm.predict(X_test)\n",
    "print(classification_report(Y_test,pr))"
   ]
  },
  {
   "cell_type": "code",
   "execution_count": 38,
   "id": "423c4ccf",
   "metadata": {
    "execution": {
     "iopub.execute_input": "2022-10-06T11:53:33.430814Z",
     "iopub.status.busy": "2022-10-06T11:53:33.430149Z",
     "iopub.status.idle": "2022-10-06T11:53:33.591603Z",
     "shell.execute_reply": "2022-10-06T11:53:33.589846Z"
    },
    "papermill": {
     "duration": 0.184899,
     "end_time": "2022-10-06T11:53:33.594314",
     "exception": false,
     "start_time": "2022-10-06T11:53:33.409415",
     "status": "completed"
    },
    "tags": []
   },
   "outputs": [
    {
     "name": "stdout",
     "output_type": "stream",
     "text": [
      "Logistic Regression\n",
      "True Positives: 1247\n",
      "False Positives: 2242\n",
      "True Negatives: 826385\n",
      "False Negatives: 1249\n"
     ]
    }
   ],
   "source": [
    "print(\"Logistic Regression\")\n",
    "tn, fp, fn, tp = confusion_matrix(Y_test, pr).ravel()\n",
    "print(f'True Positives: {tp}')\n",
    "print(f'False Positives: {fp}')\n",
    "print(f'True Negatives: {tn}')\n",
    "print(f'False Negatives: {fn}')"
   ]
  },
  {
   "cell_type": "markdown",
   "id": "bb3311bd",
   "metadata": {
    "papermill": {
     "duration": 0.01889,
     "end_time": "2022-10-06T11:53:33.632606",
     "exception": false,
     "start_time": "2022-10-06T11:53:33.613716",
     "status": "completed"
    },
    "tags": []
   },
   "source": [
    "<a id='DT'></a>\n",
    "### 4.2]DECISION TREE"
   ]
  },
  {
   "cell_type": "code",
   "execution_count": 39,
   "id": "e8a12f3c",
   "metadata": {
    "execution": {
     "iopub.execute_input": "2022-10-06T11:53:33.673881Z",
     "iopub.status.busy": "2022-10-06T11:53:33.672707Z",
     "iopub.status.idle": "2022-10-06T11:53:56.024326Z",
     "shell.execute_reply": "2022-10-06T11:53:56.023363Z"
    },
    "papermill": {
     "duration": 22.374909,
     "end_time": "2022-10-06T11:53:56.026882",
     "exception": false,
     "start_time": "2022-10-06T11:53:33.651973",
     "status": "completed"
    },
    "tags": []
   },
   "outputs": [
    {
     "name": "stdout",
     "output_type": "stream",
     "text": [
      "Decision Tree Score:  99.82397310626706\n"
     ]
    }
   ],
   "source": [
    "decision_tree = DecisionTreeClassifier()\n",
    "decision_tree.fit(X_train, Y_train)\n",
    "\n",
    "Y_pred_dt = decision_tree.predict(X_test)\n",
    "decision_tree_score = decision_tree.score(X_test, Y_test) * 100\n",
    "print(\"Decision Tree Score: \", decision_tree_score)"
   ]
  },
  {
   "cell_type": "code",
   "execution_count": 40,
   "id": "333cb113",
   "metadata": {
    "execution": {
     "iopub.execute_input": "2022-10-06T11:53:56.068205Z",
     "iopub.status.busy": "2022-10-06T11:53:56.067516Z",
     "iopub.status.idle": "2022-10-06T11:53:56.227171Z",
     "shell.execute_reply": "2022-10-06T11:53:56.225681Z"
    },
    "papermill": {
     "duration": 0.183305,
     "end_time": "2022-10-06T11:53:56.229906",
     "exception": false,
     "start_time": "2022-10-06T11:53:56.046601",
     "status": "completed"
    },
    "tags": []
   },
   "outputs": [
    {
     "name": "stdout",
     "output_type": "stream",
     "text": [
      " Decision Tree\n",
      "True Positives: 1765\n",
      "False Positives: 732\n",
      "True Negatives: 827895\n",
      "False Negatives: 731\n"
     ]
    }
   ],
   "source": [
    "print(\" Decision Tree\")\n",
    "tn, fp, fn, tp = confusion_matrix(Y_test, Y_pred_dt).ravel()\n",
    "print(f'True Positives: {tp}')\n",
    "print(f'False Positives: {fp}')\n",
    "print(f'True Negatives: {tn}')\n",
    "print(f'False Negatives: {fn}')"
   ]
  },
  {
   "cell_type": "code",
   "execution_count": 41,
   "id": "21482db1",
   "metadata": {
    "execution": {
     "iopub.execute_input": "2022-10-06T11:53:56.276384Z",
     "iopub.status.busy": "2022-10-06T11:53:56.275496Z",
     "iopub.status.idle": "2022-10-06T11:53:57.734476Z",
     "shell.execute_reply": "2022-10-06T11:53:57.733050Z"
    },
    "papermill": {
     "duration": 1.485259,
     "end_time": "2022-10-06T11:53:57.736863",
     "exception": false,
     "start_time": "2022-10-06T11:53:56.251604",
     "status": "completed"
    },
    "tags": []
   },
   "outputs": [
    {
     "name": "stdout",
     "output_type": "stream",
     "text": [
      "Classification Report - Decision Tree\n",
      "              precision    recall  f1-score   support\n",
      "\n",
      "           0       1.00      1.00      1.00    828627\n",
      "           1       0.71      0.71      0.71      2496\n",
      "\n",
      "    accuracy                           1.00    831123\n",
      "   macro avg       0.85      0.85      0.85    831123\n",
      "weighted avg       1.00      1.00      1.00    831123\n",
      "\n"
     ]
    }
   ],
   "source": [
    "classification_report_dt = classification_report(Y_test, Y_pred_dt)\n",
    "print(\"Classification Report - Decision Tree\")\n",
    "print(classification_report_dt)"
   ]
  },
  {
   "cell_type": "markdown",
   "id": "0ec00b9f",
   "metadata": {
    "papermill": {
     "duration": 0.019482,
     "end_time": "2022-10-06T11:53:57.775801",
     "exception": false,
     "start_time": "2022-10-06T11:53:57.756319",
     "status": "completed"
    },
    "tags": []
   },
   "source": [
    "## 5] Conclusion\n",
    "-  Here we can see that decision tree performs better than logistic regression.\n",
    "\n",
    "1.  TP(Decision Tree) > TP(logistic regression) \n",
    "2.  FP(Decision Tree) < FP(logistic regression) \n",
    "3.  TN(Decision Tree) > TN(logistic regression) \n",
    "4.  FN(Decision Tree) < FN(logistic regression)\n",
    "\n",
    "-  Also from the 2 classification reports, the decision tree has better f1 score and precision"
   ]
  },
  {
   "cell_type": "markdown",
   "id": "0e81de07",
   "metadata": {
    "papermill": {
     "duration": 0.019765,
     "end_time": "2022-10-06T11:53:57.814975",
     "exception": false,
     "start_time": "2022-10-06T11:53:57.795210",
     "status": "completed"
    },
    "tags": []
   },
   "source": [
    "### Note - I was not able to test a random forests classifier because it was taking a lot of time to run and could'nt figure out any alternative"
   ]
  },
  {
   "cell_type": "markdown",
   "id": "7f9d6996",
   "metadata": {
    "papermill": {
     "duration": 0.019685,
     "end_time": "2022-10-06T11:53:57.856164",
     "exception": false,
     "start_time": "2022-10-06T11:53:57.836479",
     "status": "completed"
    },
    "tags": []
   },
   "source": [
    "# Answering the task questions"
   ]
  },
  {
   "cell_type": "markdown",
   "id": "55d612ab",
   "metadata": {
    "papermill": {
     "duration": 0.019011,
     "end_time": "2022-10-06T11:53:57.894792",
     "exception": false,
     "start_time": "2022-10-06T11:53:57.875781",
     "status": "completed"
    },
    "tags": []
   },
   "source": [
    "1. Data cleaning including missing values, outliers and multi-collinearity. \n",
    "   -  Dropped the rows that were not going to be used in the model building. Check out section <a href='#cleaning'>3</a>.\n",
    "   -  Dropped the columns that had collinearity and replaced them with new column. Check out section <a href='#colinearity'>3.4</a>.\n",
    "2. Describe your fraud detection model in elaboration. \n",
    "   - These results <a href='#percent'>3.2</a> prove that this it is a highly unbalanced data as Percentage of Legit transactions= 99.7% and Percentage of Fraud transactions= 0.29%.\n",
    "   - We tested Logistic regression and decision tree algorithms and proceeded with decision trees which works best with strongly imbalanced classes. \n",
    "3. How did you select variables to be included in the model?\n",
    "   - We dropped the isFlaggedFraud column based on our conclusion in section <a href='#EDAConc'>2</a>\n",
    "   - Using the VIF values and correlation results in section <a href='#colinearity'>3.4</a>, we droped corelated independent variables and kept the ones which were better correlated to the isFraud Attribute.\n",
    "4. Demonstrate the performance of the model by using best set of tools.\n",
    "   - Used confusion matrix and classification report to see the performance of trained models. Check out section <a href='#LR'>4.1</a> and <a href='#DT'>4.2</a>.\n",
    "5. What are the key factors that predict fraudulent customer? \n",
    "   - In the section <a href='#3.5'>3.5</a> we created 2 actual balance columns for the origin and destination accounts. They show a correlation with the target variable. Hence they are used as predictors\n",
    "\n",
    "7. What kind of prevention should be adopted while company update its infrastructure?\n",
    "   - Adding extra layer of security to their website/ app.\n",
    "   - Vigilant monitoring of the fraud indicators.\n"
   ]
  }
 ],
 "metadata": {
  "kernelspec": {
   "display_name": "Python 3",
   "language": "python",
   "name": "python3"
  },
  "language_info": {
   "codemirror_mode": {
    "name": "ipython",
    "version": 3
   },
   "file_extension": ".py",
   "mimetype": "text/x-python",
   "name": "python",
   "nbconvert_exporter": "python",
   "pygments_lexer": "ipython3",
   "version": "3.7.12"
  },
  "papermill": {
   "default_parameters": {},
   "duration": 250.195689,
   "end_time": "2022-10-06T11:53:59.541268",
   "environment_variables": {},
   "exception": null,
   "input_path": "__notebook__.ipynb",
   "output_path": "__notebook__.ipynb",
   "parameters": {},
   "start_time": "2022-10-06T11:49:49.345579",
   "version": "2.3.4"
  }
 },
 "nbformat": 4,
 "nbformat_minor": 5
}
